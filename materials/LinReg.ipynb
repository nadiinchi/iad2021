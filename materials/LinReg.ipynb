{
 "cells": [
  {
   "cell_type": "code",
   "execution_count": 1,
   "metadata": {
    "collapsed": true
   },
   "outputs": [],
   "source": [
    "from sklearn.datasets import load_boston\n",
    "data = load_boston()\n",
    "X = data[\"data\"]\n",
    "y = data[\"target\"]\n",
    "from sklearn.model_selection import train_test_split\n",
    "X_tr, X_te, y_tr, y_te = train_test_split(X, y) "
   ]
  },
  {
   "cell_type": "code",
   "execution_count": 55,
   "metadata": {},
   "outputs": [
    {
     "data": {
      "text/plain": [
       "dict_keys(['data', 'target', 'feature_names', 'DESCR'])"
      ]
     },
     "execution_count": 55,
     "metadata": {},
     "output_type": "execute_result"
    }
   ],
   "source": [
    "data.keys()"
   ]
  },
  {
   "cell_type": "code",
   "execution_count": 56,
   "metadata": {},
   "outputs": [
    {
     "data": {
      "text/plain": [
       "array(['CRIM', 'ZN', 'INDUS', 'CHAS', 'NOX', 'RM', 'AGE', 'DIS', 'RAD',\n",
       "       'TAX', 'PTRATIO', 'B', 'LSTAT'], dtype='<U7')"
      ]
     },
     "execution_count": 56,
     "metadata": {},
     "output_type": "execute_result"
    }
   ],
   "source": [
    "data[\"feature_names\"]"
   ]
  },
  {
   "cell_type": "code",
   "execution_count": 54,
   "metadata": {},
   "outputs": [
    {
     "data": {
      "text/plain": [
       "((379, 13), (127, 13), (506,))"
      ]
     },
     "execution_count": 54,
     "metadata": {},
     "output_type": "execute_result"
    }
   ],
   "source": [
    "X_tr.shape, X_te.shape, y.shape"
   ]
  },
  {
   "cell_type": "code",
   "execution_count": 2,
   "metadata": {
    "collapsed": true
   },
   "outputs": [],
   "source": [
    "from sklearn.linear_model import LinearRegression\n",
    "\n",
    "model = LinearRegression()\n",
    "model.fit(X_tr, y_tr)\n",
    "preds_te = model.predict(X_te)\n"
   ]
  },
  {
   "cell_type": "code",
   "execution_count": 3,
   "metadata": {},
   "outputs": [
    {
     "data": {
      "text/plain": [
       "array([-9.56823701e-02,  4.96612667e-02, -4.37427298e-03,  3.11116892e+00,\n",
       "       -1.71648997e+01,  3.48569068e+00,  1.49845255e-02, -1.41946809e+00,\n",
       "        2.84472746e-01, -1.16643550e-02, -9.61845027e-01,  5.40806857e-03,\n",
       "       -5.87318397e-01])"
      ]
     },
     "execution_count": 3,
     "metadata": {},
     "output_type": "execute_result"
    }
   ],
   "source": [
    "model.coef_"
   ]
  },
  {
   "cell_type": "code",
   "execution_count": 59,
   "metadata": {},
   "outputs": [
    {
     "data": {
      "text/plain": [
       "array([13.81526622, 14.06478307, 17.83736509, 21.1521442 , 21.06155915,\n",
       "       22.00452397, 19.76569846, 34.6880118 , 31.72041119, 14.33632523,\n",
       "       19.73957403, 28.09517119, 20.09406153, 21.76978836, 22.59128985,\n",
       "       17.59273705, 20.37204308, 25.48790125, 21.64412136, 19.94532444,\n",
       "       21.49406636, 19.08881453, 35.84498856, 26.18175325, 14.04866427,\n",
       "       14.57198282, 20.51710997, 24.0773428 , 32.61265297, 19.25501467,\n",
       "       12.75499502, 24.3850759 ,  4.06289696, 28.59818188, 16.9647455 ,\n",
       "       23.13580146, 38.99356623, 22.52856409, 23.65940526, 12.83626879,\n",
       "       15.58242379, 38.01003925, 42.95075284, 18.0700071 , 17.1875888 ,\n",
       "       18.27831072, 19.64222829, 15.82170733, 27.07291946, 26.65400987,\n",
       "       33.67871497, 22.95679406, 34.76320071, 20.99257119, 32.45990363,\n",
       "       22.52572635, 19.37315734, 19.38959131, 31.00203925, 23.86621168,\n",
       "       24.05351074, 15.99703199, 25.26776725, 22.91575461, 32.74215884,\n",
       "       33.89303849, 18.81399291, 18.35058438, 14.47567524,  6.77861456,\n",
       "       19.83448966, 36.65630073, 18.56037484, 40.50809866, 23.51925717,\n",
       "       15.16951696, 13.33689244, 23.38286427, 11.23330562,  3.43269778,\n",
       "       16.99456938, 32.72531295, 24.43646297, 16.75900393, 19.67507467,\n",
       "       20.65241814, 17.08651699, 36.80471885, 31.33495588, 27.66526165,\n",
       "       23.73882565, 19.53887541, 11.61001179, 20.70484286,  6.6494335 ,\n",
       "       14.73380486, 24.39996052, 24.77495134, 27.35608895, 19.72936158,\n",
       "       33.16209586, 33.158188  , -5.2271033 , 29.38296851, 18.13656116,\n",
       "       13.51167902, 30.52937743, 19.40479683, 15.60469745, 28.52933066,\n",
       "       37.73782076, 21.66451202, 21.62694877, 26.08471412, 25.36959317,\n",
       "       23.57775886, 22.03602933, 23.19488378, 14.8390326 , 24.94949623,\n",
       "        9.08119944, 14.66128917, 20.33480668, 24.71500795, 39.14039796,\n",
       "       13.0784425 , 28.27635323])"
      ]
     },
     "execution_count": 59,
     "metadata": {},
     "output_type": "execute_result"
    }
   ],
   "source": [
    "preds_te"
   ]
  },
  {
   "cell_type": "markdown",
   "metadata": {},
   "source": [
    "### Linear regression"
   ]
  },
  {
   "cell_type": "code",
   "execution_count": 8,
   "metadata": {
    "collapsed": true
   },
   "outputs": [],
   "source": [
    "import numpy as np\n",
    "class MyLinearRegression:\n",
    "    def fit(self, X, y):\n",
    "        ### find weights and save in self.\n",
    "        XTX = np.dot(X.T, X)\n",
    "        XTX_inv = np.linalg.inv(XTX)\n",
    "        XTY = np.dot(X.T, y)\n",
    "        w = np.dot(XTX_inv, XTY)\n",
    "        self.weights = w\n",
    "        \n",
    "    def predict(self, X):\n",
    "        preds = np.dot(X, self.weights)\n",
    "        return preds"
   ]
  },
  {
   "cell_type": "code",
   "execution_count": 13,
   "metadata": {},
   "outputs": [
    {
     "data": {
      "text/plain": [
       "array([21.32593648, 20.89158022, 17.92066068, 22.15638276, 18.91709258,\n",
       "       31.20848543,  5.509698  ,  7.85928213, 37.00431803, 21.37957418])"
      ]
     },
     "execution_count": 13,
     "metadata": {},
     "output_type": "execute_result"
    }
   ],
   "source": [
    "model = MyLinearRegression()\n",
    "model.fit(X_tr, y_tr)\n",
    "preds1 = model.predict(X_te)\n",
    "preds[:10]"
   ]
  },
  {
   "cell_type": "code",
   "execution_count": 14,
   "metadata": {},
   "outputs": [
    {
     "data": {
      "text/plain": [
       "array([21.32593648, 20.89158022, 17.92066068, 22.15638276, 18.91709258,\n",
       "       31.20848543,  5.509698  ,  7.85928213, 37.00431803, 21.37957418])"
      ]
     },
     "execution_count": 14,
     "metadata": {},
     "output_type": "execute_result"
    }
   ],
   "source": [
    "model = LinearRegression(fit_intercept=False)\n",
    "model.fit(X_tr, y_tr)\n",
    "preds2 = model.predict(X_te)\n",
    "preds[:10]"
   ]
  },
  {
   "cell_type": "code",
   "execution_count": 19,
   "metadata": {},
   "outputs": [
    {
     "data": {
      "text/plain": [
       "False"
      ]
     },
     "execution_count": 19,
     "metadata": {},
     "output_type": "execute_result"
    }
   ],
   "source": [
    "(preds1==preds2).all()"
   ]
  },
  {
   "cell_type": "code",
   "execution_count": 18,
   "metadata": {},
   "outputs": [
    {
     "data": {
      "text/plain": [
       "True"
      ]
     },
     "execution_count": 18,
     "metadata": {},
     "output_type": "execute_result"
    }
   ],
   "source": [
    "(np.abs(preds1-preds2) < 1e-10).all()"
   ]
  },
  {
   "cell_type": "code",
   "execution_count": null,
   "metadata": {
    "collapsed": true
   },
   "outputs": [],
   "source": []
  }
 ],
 "metadata": {
  "kernelspec": {
   "display_name": "Python 3",
   "language": "python",
   "name": "python3"
  },
  "language_info": {
   "codemirror_mode": {
    "name": "ipython",
    "version": 3
   },
   "file_extension": ".py",
   "mimetype": "text/x-python",
   "name": "python",
   "nbconvert_exporter": "python",
   "pygments_lexer": "ipython3",
   "version": "3.6.3"
  }
 },
 "nbformat": 4,
 "nbformat_minor": 2
}
