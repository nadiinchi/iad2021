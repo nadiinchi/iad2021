{
 "cells": [
  {
   "cell_type": "code",
   "execution_count": 1,
   "metadata": {
    "collapsed": true
   },
   "outputs": [],
   "source": [
    "class MaxCounter:\n",
    "    def __init__(self):\n",
    "        self.cur_max = -10**10\n",
    "    \n",
    "    def add(self, num):\n",
    "        if num > self.cur_max:\n",
    "            self.cur_max = num\n",
    "    \n",
    "    def print_max(self):\n",
    "        print(\"Текущий максимум:\", self.cur_max)"
   ]
  },
  {
   "cell_type": "code",
   "execution_count": 6,
   "metadata": {
    "collapsed": true
   },
   "outputs": [],
   "source": [
    "max_counter = MaxCounter()\n",
    "max_counter.add(30)\n",
    "max_counter.add(20)\n",
    "max_counter.add(1)\n",
    "max_counter.add(100)"
   ]
  },
  {
   "cell_type": "code",
   "execution_count": 7,
   "metadata": {},
   "outputs": [
    {
     "name": "stdout",
     "output_type": "stream",
     "text": [
      "Текущий максимум: 100\n"
     ]
    }
   ],
   "source": [
    "max_counter.print_max()"
   ]
  },
  {
   "cell_type": "code",
   "execution_count": 8,
   "metadata": {},
   "outputs": [
    {
     "name": "stdout",
     "output_type": "stream",
     "text": [
      "Текущий максимум: 1000\n"
     ]
    }
   ],
   "source": [
    "max_counter.add(1000)\n",
    "max_counter.add(-1)\n",
    "max_counter.print_max()"
   ]
  },
  {
   "cell_type": "code",
   "execution_count": 10,
   "metadata": {},
   "outputs": [
    {
     "data": {
      "text/plain": [
       "1000"
      ]
     },
     "execution_count": 10,
     "metadata": {},
     "output_type": "execute_result"
    }
   ],
   "source": [
    "max_counter.cur_max"
   ]
  },
  {
   "cell_type": "code",
   "execution_count": 11,
   "metadata": {},
   "outputs": [
    {
     "name": "stdout",
     "output_type": "stream",
     "text": [
      "Текущий максимум: 1.1\n"
     ]
    }
   ],
   "source": [
    "max_counter2 = MaxCounter()\n",
    "max_counter2.add(0.4)\n",
    "max_counter2.add(1.1)\n",
    "max_counter2.print_max()"
   ]
  },
  {
   "cell_type": "code",
   "execution_count": 12,
   "metadata": {},
   "outputs": [
    {
     "data": {
      "text/plain": [
       "1.1"
      ]
     },
     "execution_count": 12,
     "metadata": {},
     "output_type": "execute_result"
    }
   ],
   "source": [
    "max_counter2.cur_max"
   ]
  },
  {
   "cell_type": "code",
   "execution_count": 4,
   "metadata": {
    "collapsed": true
   },
   "outputs": [],
   "source": [
    "def add(num, cur_max):\n",
    "    if num > cur_max:\n",
    "        return num\n",
    "    else:\n",
    "        return cur_max\n",
    "\n",
    "\n",
    "cur_max = -10**10\n",
    "cur_max = add(30, cur_max)\n",
    "cur_max = add(20, cur_max)"
   ]
  },
  {
   "cell_type": "code",
   "execution_count": 5,
   "metadata": {},
   "outputs": [
    {
     "data": {
      "text/plain": [
       "30"
      ]
     },
     "execution_count": 5,
     "metadata": {},
     "output_type": "execute_result"
    }
   ],
   "source": [
    "cur_max"
   ]
  },
  {
   "cell_type": "code",
   "execution_count": 33,
   "metadata": {
    "collapsed": true
   },
   "outputs": [],
   "source": [
    "from collections import Counter"
   ]
  },
  {
   "cell_type": "code",
   "execution_count": 29,
   "metadata": {},
   "outputs": [],
   "source": [
    "count = Counter()\n",
    "count.update([\"my\", \"cat\", \"sleeps\"])\n",
    "count.update([\"my\", \"cat\", \"plays\"])\n",
    "count.update([\"my\", \"dog\", \"runs\"])"
   ]
  },
  {
   "cell_type": "code",
   "execution_count": 30,
   "metadata": {},
   "outputs": [
    {
     "data": {
      "text/plain": [
       "[('my', 3), ('cat', 2)]"
      ]
     },
     "execution_count": 30,
     "metadata": {},
     "output_type": "execute_result"
    }
   ],
   "source": [
    "count.most_common(n=2)"
   ]
  },
  {
   "cell_type": "code",
   "execution_count": 39,
   "metadata": {
    "collapsed": true
   },
   "outputs": [],
   "source": [
    "class MyCounter:\n",
    "    def __init__(self):\n",
    "        self.dct = {}\n",
    "\n",
    "    def update(self, elems):\n",
    "        for elem in elems:\n",
    "            if not elem in self.dct:\n",
    "                self.dct[elem] = 0\n",
    "            self.dct[elem] += 1\n",
    "    \n",
    "    def most_common(self, n=None):\n",
    "        # print(self.dct.items())\n",
    "        sorted_items = sorted(self.dct.items(), key=lambda x:x[1], \\\n",
    "                              reverse=True)\n",
    "        \n",
    "        print(sorted_items[:n])"
   ]
  },
  {
   "cell_type": "code",
   "execution_count": 40,
   "metadata": {},
   "outputs": [
    {
     "name": "stdout",
     "output_type": "stream",
     "text": [
      "[('my', 3), ('cat', 2)]\n",
      "[('my', 3), ('cat', 2), ('sleeps', 1), ('plays', 1), ('dog', 1), ('runs', 1)]\n"
     ]
    }
   ],
   "source": [
    "count = MyCounter()\n",
    "count.update([\"my\", \"cat\", \"sleeps\"])\n",
    "count.update([\"my\", \"cat\", \"plays\"])\n",
    "count.update([\"my\", \"dog\", \"runs\"])\n",
    "count.most_common(n=2)\n",
    "count.most_common()"
   ]
  },
  {
   "cell_type": "code",
   "execution_count": 49,
   "metadata": {},
   "outputs": [
    {
     "name": "stdout",
     "output_type": "stream",
     "text": [
      "[(1, 2), (10, 2)]\n",
      "[(1, 2), (10, 2), (5, 1), (7, 1)]\n"
     ]
    }
   ],
   "source": [
    "count = MyCounter()\n",
    "count.update([1, 10, 5])\n",
    "count.update([7, 1, 10])\n",
    "count.most_common(n=2)\n",
    "count.most_common()"
   ]
  },
  {
   "cell_type": "code",
   "execution_count": 37,
   "metadata": {},
   "outputs": [
    {
     "data": {
      "text/plain": [
       "{'cat': 2, 'dog': 1, 'my': 3, 'plays': 1, 'runs': 1, 'sleeps': 1}"
      ]
     },
     "execution_count": 37,
     "metadata": {},
     "output_type": "execute_result"
    }
   ],
   "source": [
    "count.dct"
   ]
  },
  {
   "cell_type": "code",
   "execution_count": 38,
   "metadata": {},
   "outputs": [
    {
     "data": {
      "text/plain": [
       "dict_items([('my', 3), ('cat', 2), ('sleeps', 1), ('plays', 1), ('dog', 1), ('runs', 1)])"
      ]
     },
     "execution_count": 38,
     "metadata": {},
     "output_type": "execute_result"
    }
   ],
   "source": [
    "count.dct.items()"
   ]
  },
  {
   "cell_type": "code",
   "execution_count": null,
   "metadata": {
    "collapsed": true
   },
   "outputs": [],
   "source": [
    "class MyCounter:\n",
    "    def __init__(self):\n",
    "        self.dct = {}\n",
    "    def update(self, elems):\n",
    "        \n",
    "    \n",
    "    def most_common(self, n=None):\n",
    "        print(self.dct.items())"
   ]
  },
  {
   "cell_type": "code",
   "execution_count": null,
   "metadata": {
    "collapsed": true
   },
   "outputs": [],
   "source": []
  },
  {
   "cell_type": "code",
   "execution_count": 45,
   "metadata": {
    "collapsed": true
   },
   "outputs": [],
   "source": [
    "class MinMaxCounter:\n",
    "    def __init__(self, search_max=True):\n",
    "        self.cur_opt = -10**10 if search_max else 10**10\n",
    "        self.search_max = search_max\n",
    "    \n",
    "    def add(self, num):\n",
    "        if self.search_max:\n",
    "            if num > self.cur_opt:\n",
    "                self.cur_opt = num\n",
    "        else:\n",
    "            if num < self.cur_opt:\n",
    "                self.cur_opt = num\n",
    "    \n",
    "    def print_opt(self):\n",
    "        print(\"Текущий оптимум:\", self.cur_opt)"
   ]
  },
  {
   "cell_type": "code",
   "execution_count": 47,
   "metadata": {},
   "outputs": [
    {
     "name": "stdout",
     "output_type": "stream",
     "text": [
      "Текущий оптимум: 100\n"
     ]
    }
   ],
   "source": [
    "max_counter = MinMaxCounter()\n",
    "max_counter.add(30)\n",
    "max_counter.add(20)\n",
    "max_counter.add(1)\n",
    "max_counter.add(100)\n",
    "max_counter.print_opt()"
   ]
  },
  {
   "cell_type": "code",
   "execution_count": 48,
   "metadata": {},
   "outputs": [
    {
     "name": "stdout",
     "output_type": "stream",
     "text": [
      "Текущий оптимум: 1\n"
     ]
    }
   ],
   "source": [
    "max_counter = MinMaxCounter(search_max=False)\n",
    "max_counter.add(30)\n",
    "max_counter.add(20)\n",
    "max_counter.add(1)\n",
    "max_counter.add(100)\n",
    "max_counter.print_opt()"
   ]
  },
  {
   "cell_type": "code",
   "execution_count": null,
   "metadata": {
    "collapsed": true
   },
   "outputs": [],
   "source": []
  },
  {
   "cell_type": "code",
   "execution_count": 53,
   "metadata": {
    "collapsed": true
   },
   "outputs": [],
   "source": [
    "from sklearn.datasets import load_boston\n",
    "data = load_boston()\n",
    "X = data[\"data\"]\n",
    "y = data[\"target\"]\n",
    "from sklearn.model_selection import train_test_split\n",
    "X_tr, X_te, y_tr, y_te = train_test_split(X, y) "
   ]
  },
  {
   "cell_type": "code",
   "execution_count": 55,
   "metadata": {},
   "outputs": [
    {
     "data": {
      "text/plain": [
       "dict_keys(['data', 'target', 'feature_names', 'DESCR'])"
      ]
     },
     "execution_count": 55,
     "metadata": {},
     "output_type": "execute_result"
    }
   ],
   "source": [
    "data.keys()"
   ]
  },
  {
   "cell_type": "code",
   "execution_count": 56,
   "metadata": {},
   "outputs": [
    {
     "data": {
      "text/plain": [
       "array(['CRIM', 'ZN', 'INDUS', 'CHAS', 'NOX', 'RM', 'AGE', 'DIS', 'RAD',\n",
       "       'TAX', 'PTRATIO', 'B', 'LSTAT'], dtype='<U7')"
      ]
     },
     "execution_count": 56,
     "metadata": {},
     "output_type": "execute_result"
    }
   ],
   "source": [
    "data[\"feature_names\"]"
   ]
  },
  {
   "cell_type": "code",
   "execution_count": 54,
   "metadata": {},
   "outputs": [
    {
     "data": {
      "text/plain": [
       "((379, 13), (127, 13), (506,))"
      ]
     },
     "execution_count": 54,
     "metadata": {},
     "output_type": "execute_result"
    }
   ],
   "source": [
    "X_tr.shape, X_te.shape, y.shape"
   ]
  },
  {
   "cell_type": "code",
   "execution_count": 58,
   "metadata": {},
   "outputs": [],
   "source": [
    "from sklearn.linear_model import LinearRegression\n",
    "\n",
    "model = LinearRegression()\n",
    "model.fit(X_tr, y_tr)\n",
    "preds_te = model.predict(X_te)\n"
   ]
  },
  {
   "cell_type": "code",
   "execution_count": 60,
   "metadata": {},
   "outputs": [
    {
     "data": {
      "text/plain": [
       "array([-1.39340723e-01,  4.91416361e-02, -6.65362893e-03,  3.59911050e+00,\n",
       "       -1.65476526e+01,  3.83934523e+00, -1.33996547e-02, -1.74809237e+00,\n",
       "        2.78164112e-01, -1.03685497e-02, -8.14807284e-01,  1.02274725e-02,\n",
       "       -5.13222267e-01])"
      ]
     },
     "execution_count": 60,
     "metadata": {},
     "output_type": "execute_result"
    }
   ],
   "source": [
    "model.coef_"
   ]
  },
  {
   "cell_type": "code",
   "execution_count": 59,
   "metadata": {},
   "outputs": [
    {
     "data": {
      "text/plain": [
       "array([13.81526622, 14.06478307, 17.83736509, 21.1521442 , 21.06155915,\n",
       "       22.00452397, 19.76569846, 34.6880118 , 31.72041119, 14.33632523,\n",
       "       19.73957403, 28.09517119, 20.09406153, 21.76978836, 22.59128985,\n",
       "       17.59273705, 20.37204308, 25.48790125, 21.64412136, 19.94532444,\n",
       "       21.49406636, 19.08881453, 35.84498856, 26.18175325, 14.04866427,\n",
       "       14.57198282, 20.51710997, 24.0773428 , 32.61265297, 19.25501467,\n",
       "       12.75499502, 24.3850759 ,  4.06289696, 28.59818188, 16.9647455 ,\n",
       "       23.13580146, 38.99356623, 22.52856409, 23.65940526, 12.83626879,\n",
       "       15.58242379, 38.01003925, 42.95075284, 18.0700071 , 17.1875888 ,\n",
       "       18.27831072, 19.64222829, 15.82170733, 27.07291946, 26.65400987,\n",
       "       33.67871497, 22.95679406, 34.76320071, 20.99257119, 32.45990363,\n",
       "       22.52572635, 19.37315734, 19.38959131, 31.00203925, 23.86621168,\n",
       "       24.05351074, 15.99703199, 25.26776725, 22.91575461, 32.74215884,\n",
       "       33.89303849, 18.81399291, 18.35058438, 14.47567524,  6.77861456,\n",
       "       19.83448966, 36.65630073, 18.56037484, 40.50809866, 23.51925717,\n",
       "       15.16951696, 13.33689244, 23.38286427, 11.23330562,  3.43269778,\n",
       "       16.99456938, 32.72531295, 24.43646297, 16.75900393, 19.67507467,\n",
       "       20.65241814, 17.08651699, 36.80471885, 31.33495588, 27.66526165,\n",
       "       23.73882565, 19.53887541, 11.61001179, 20.70484286,  6.6494335 ,\n",
       "       14.73380486, 24.39996052, 24.77495134, 27.35608895, 19.72936158,\n",
       "       33.16209586, 33.158188  , -5.2271033 , 29.38296851, 18.13656116,\n",
       "       13.51167902, 30.52937743, 19.40479683, 15.60469745, 28.52933066,\n",
       "       37.73782076, 21.66451202, 21.62694877, 26.08471412, 25.36959317,\n",
       "       23.57775886, 22.03602933, 23.19488378, 14.8390326 , 24.94949623,\n",
       "        9.08119944, 14.66128917, 20.33480668, 24.71500795, 39.14039796,\n",
       "       13.0784425 , 28.27635323])"
      ]
     },
     "execution_count": 59,
     "metadata": {},
     "output_type": "execute_result"
    }
   ],
   "source": [
    "preds_te"
   ]
  },
  {
   "cell_type": "code",
   "execution_count": 80,
   "metadata": {
    "collapsed": true
   },
   "outputs": [],
   "source": [
    "import numpy as np\n",
    "class DummyRegressor:\n",
    "    def __init__(self, use_median=False):\n",
    "        self.use_median = use_median\n",
    "    \n",
    "    def fit(self, X, y):\n",
    "        if self.use_median:\n",
    "            self.constant = np.median(y)\n",
    "        else:\n",
    "            self.constant = np.mean(y)\n",
    "        \n",
    "    def predict(self, X):\n",
    "        preds = np.ones(X.shape[0]) * self.constant\n",
    "        return preds"
   ]
  },
  {
   "cell_type": "code",
   "execution_count": 81,
   "metadata": {},
   "outputs": [
    {
     "data": {
      "text/plain": [
       "array([21.4, 21.4, 21.4, 21.4, 21.4, 21.4, 21.4, 21.4, 21.4, 21.4, 21.4,\n",
       "       21.4, 21.4, 21.4, 21.4, 21.4, 21.4, 21.4, 21.4, 21.4, 21.4, 21.4,\n",
       "       21.4, 21.4, 21.4, 21.4, 21.4, 21.4, 21.4, 21.4, 21.4, 21.4, 21.4,\n",
       "       21.4, 21.4, 21.4, 21.4, 21.4, 21.4, 21.4, 21.4, 21.4, 21.4, 21.4,\n",
       "       21.4, 21.4, 21.4, 21.4, 21.4, 21.4, 21.4, 21.4, 21.4, 21.4, 21.4,\n",
       "       21.4, 21.4, 21.4, 21.4, 21.4, 21.4, 21.4, 21.4, 21.4, 21.4, 21.4,\n",
       "       21.4, 21.4, 21.4, 21.4, 21.4, 21.4, 21.4, 21.4, 21.4, 21.4, 21.4,\n",
       "       21.4, 21.4, 21.4, 21.4, 21.4, 21.4, 21.4, 21.4, 21.4, 21.4, 21.4,\n",
       "       21.4, 21.4, 21.4, 21.4, 21.4, 21.4, 21.4, 21.4, 21.4, 21.4, 21.4,\n",
       "       21.4, 21.4, 21.4, 21.4, 21.4, 21.4, 21.4, 21.4, 21.4, 21.4, 21.4,\n",
       "       21.4, 21.4, 21.4, 21.4, 21.4, 21.4, 21.4, 21.4, 21.4, 21.4, 21.4,\n",
       "       21.4, 21.4, 21.4, 21.4, 21.4, 21.4])"
      ]
     },
     "execution_count": 81,
     "metadata": {},
     "output_type": "execute_result"
    }
   ],
   "source": [
    "dummy = DummyRegressor(use_median=True)\n",
    "dummy.fit(X_tr, y_tr)\n",
    "dummy.predict(X_te)"
   ]
  },
  {
   "cell_type": "code",
   "execution_count": 82,
   "metadata": {},
   "outputs": [
    {
     "data": {
      "text/plain": [
       "21.4"
      ]
     },
     "execution_count": 82,
     "metadata": {},
     "output_type": "execute_result"
    }
   ],
   "source": [
    "dummy.constant"
   ]
  },
  {
   "cell_type": "code",
   "execution_count": null,
   "metadata": {
    "collapsed": true
   },
   "outputs": [],
   "source": [
    "class LinearRegressor:\n",
    "    def fit(self, X, y):\n",
    "        \n",
    "    def predict(self, X):\n",
    "        "
   ]
  },
  {
   "cell_type": "code",
   "execution_count": null,
   "metadata": {
    "collapsed": true
   },
   "outputs": [],
   "source": [
    "np.mean\n",
    "np.median"
   ]
  },
  {
   "cell_type": "code",
   "execution_count": 68,
   "metadata": {},
   "outputs": [],
   "source": [
    "from sklearn.preprocessing import MinMaxScaler\n",
    "scaler = MinMaxScaler()\n",
    "scaler.fit(X_tr)\n",
    "X_tr_sc = scaler.transform(X_tr)\n",
    "X_te_sc = scaler.transform(X_te)"
   ]
  },
  {
   "cell_type": "code",
   "execution_count": 69,
   "metadata": {},
   "outputs": [
    {
     "data": {
      "text/plain": [
       "array([1.3110e-02, 9.0000e+01, 1.2200e+00, 0.0000e+00, 4.0300e-01,\n",
       "       7.2490e+00, 2.1900e+01, 8.6966e+00, 5.0000e+00, 2.2600e+02,\n",
       "       1.7900e+01, 3.9593e+02, 4.8100e+00])"
      ]
     },
     "execution_count": 69,
     "metadata": {},
     "output_type": "execute_result"
    }
   ],
   "source": [
    "X_tr[0]"
   ]
  },
  {
   "cell_type": "code",
   "execution_count": 70,
   "metadata": {},
   "outputs": [
    {
     "data": {
      "text/plain": [
       "array([7.63179629e-05, 9.00000000e-01, 2.78592375e-02, 0.00000000e+00,\n",
       "       3.70370370e-02, 7.14175058e-01, 1.95674562e-01, 7.89817028e-01,\n",
       "       1.73913043e-01, 7.26577438e-02, 5.63829787e-01, 9.97554087e-01,\n",
       "       8.49889625e-02])"
      ]
     },
     "execution_count": 70,
     "metadata": {},
     "output_type": "execute_result"
    }
   ],
   "source": [
    "X_tr_sc[0]"
   ]
  },
  {
   "cell_type": "code",
   "execution_count": null,
   "metadata": {
    "collapsed": true
   },
   "outputs": [],
   "source": []
  }
 ],
 "metadata": {
  "kernelspec": {
   "display_name": "Python 3",
   "language": "python",
   "name": "python3"
  },
  "language_info": {
   "codemirror_mode": {
    "name": "ipython",
    "version": 3
   },
   "file_extension": ".py",
   "mimetype": "text/x-python",
   "name": "python",
   "nbconvert_exporter": "python",
   "pygments_lexer": "ipython3",
   "version": "3.6.3"
  }
 },
 "nbformat": 4,
 "nbformat_minor": 2
}
